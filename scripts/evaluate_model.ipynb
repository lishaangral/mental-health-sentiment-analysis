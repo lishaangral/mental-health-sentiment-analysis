{
 "cells": [
  {
   "cell_type": "code",
   "execution_count": 12,
   "id": "2f4f7863",
   "metadata": {},
   "outputs": [
    {
     "name": "stderr",
     "output_type": "stream",
     "text": [
      "Device set to use cpu\n"
     ]
    },
    {
     "name": "stdout",
     "output_type": "stream",
     "text": [
      "Quick Accuracy on 200 samples: 91.5%\n"
     ]
    }
   ],
   "source": [
    "import pandas as pd\n",
    "from sklearn.metrics import accuracy_score\n",
    "from transformers import pipeline\n",
    "\n",
    "# Load a few test samples\n",
    "df = pd.read_csv(\"../data/mental_health_dataset.csv\").sample(n=200, random_state=42)  # using 10–20 rows for quick check\n",
    "\n",
    "# Load model from Hugging Face\n",
    "model_name = \"lishaangral/roberta-mental-health\"\n",
    "from transformers import pipeline\n",
    "\n",
    "classifier = pipeline(\n",
    "    \"text-classification\",\n",
    "    model=\"lishaangral/roberta-mental-health\",\n",
    "    tokenizer=\"lishaangral/roberta-mental-health\",\n",
    "    framework=\"pt\"  # Force PyTorch backend\n",
    ")\n",
    "\n",
    "# Make predictions\n",
    "preds = classifier(\n",
    "    list(df[\"statement\"]),\n",
    "    truncation=True,\n",
    "    max_length=512\n",
    ")\n",
    "pred_labels = [p[\"label\"] for p in preds]\n",
    "\n",
    "# Evaluate\n",
    "true_labels = list(df[\"status\"])\n",
    "accuracy = accuracy_score(true_labels, pred_labels)\n",
    "print(f\"Quick Accuracy on {len(df)} samples: {accuracy:.1%}\")"
   ]
  },
  {
   "cell_type": "code",
   "execution_count": 14,
   "id": "46738ff1",
   "metadata": {},
   "outputs": [
    {
     "name": "stdout",
     "output_type": "stream",
     "text": [
      "                      precision    recall  f1-score   support\n",
      "\n",
      "             Anxiety      0.917     1.000     0.957        11\n",
      "             Bipolar      1.000     0.833     0.909         6\n",
      "          Depression      0.897     0.897     0.897        68\n",
      "              Normal      1.000     0.985     0.992        66\n",
      "Personality disorder      1.000     1.000     1.000         4\n",
      "              Stress      0.727     0.889     0.800         9\n",
      "            Suicidal      0.829     0.806     0.817        36\n",
      "\n",
      "            accuracy                          0.915       200\n",
      "           macro avg      0.910     0.916     0.910       200\n",
      "        weighted avg      0.917     0.915     0.915       200\n",
      "\n"
     ]
    }
   ],
   "source": [
    "from sklearn.metrics import classification_report\n",
    "\n",
    "# Generate full classification report\n",
    "report = classification_report(true_labels, pred_labels, digits=3)\n",
    "print(report)\n"
   ]
  }
 ],
 "metadata": {
  "kernelspec": {
   "display_name": "Python 3",
   "language": "python",
   "name": "python3"
  },
  "language_info": {
   "codemirror_mode": {
    "name": "ipython",
    "version": 3
   },
   "file_extension": ".py",
   "mimetype": "text/x-python",
   "name": "python",
   "nbconvert_exporter": "python",
   "pygments_lexer": "ipython3",
   "version": "3.11.9"
  }
 },
 "nbformat": 4,
 "nbformat_minor": 5
}
